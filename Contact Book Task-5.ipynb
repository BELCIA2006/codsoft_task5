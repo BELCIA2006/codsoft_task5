{
 "cells": [
  {
   "cell_type": "code",
   "execution_count": 2,
   "id": "f23f07a2-dd48-402b-b384-d268cb55aa26",
   "metadata": {},
   "outputs": [
    {
     "name": "stdout",
     "output_type": "stream",
     "text": [
      "\n",
      "=== Contact Management System ===\n",
      "1. Add Contact\n",
      "2. View Contacts\n",
      "3. Search Contact\n",
      "4. Update Contact\n",
      "5. Delete Contact\n",
      "6. Exit\n"
     ]
    },
    {
     "name": "stdin",
     "output_type": "stream",
     "text": [
      "Enter your choice:  1\n",
      "Enter name:  Meera\n",
      "Enter phone number:  7654328974\n",
      "Enter email:  meera_123@gmail.com\n",
      "Enter address:  chennai\n"
     ]
    },
    {
     "name": "stdout",
     "output_type": "stream",
     "text": [
      " Contact added successfully!\n",
      "\n",
      "=== Contact Management System ===\n",
      "1. Add Contact\n",
      "2. View Contacts\n",
      "3. Search Contact\n",
      "4. Update Contact\n",
      "5. Delete Contact\n",
      "6. Exit\n"
     ]
    },
    {
     "name": "stdin",
     "output_type": "stream",
     "text": [
      "Enter your choice:  1\n",
      "Enter name:  Madhu\n",
      "Enter phone number:  7896543234\n",
      "Enter email:  madhu_123@gmail.com\n",
      "Enter address:  kanchipuram\n"
     ]
    },
    {
     "name": "stdout",
     "output_type": "stream",
     "text": [
      " Contact added successfully!\n",
      "\n",
      "=== Contact Management System ===\n",
      "1. Add Contact\n",
      "2. View Contacts\n",
      "3. Search Contact\n",
      "4. Update Contact\n",
      "5. Delete Contact\n",
      "6. Exit\n"
     ]
    },
    {
     "name": "stdin",
     "output_type": "stream",
     "text": [
      "Enter your choice:  3\n",
      "Enter name or phone number to search:  7896543234\n"
     ]
    },
    {
     "name": "stdout",
     "output_type": "stream",
     "text": [
      "\n",
      "Name: Madhu\n",
      "Phone: 7896543234\n",
      "Email: madhu_123@gmail.com\n",
      "Address: kanchipuram\n",
      "\n",
      "=== Contact Management System ===\n",
      "1. Add Contact\n",
      "2. View Contacts\n",
      "3. Search Contact\n",
      "4. Update Contact\n",
      "5. Delete Contact\n",
      "6. Exit\n"
     ]
    },
    {
     "name": "stdin",
     "output_type": "stream",
     "text": [
      "Enter your choice:  4\n",
      "Enter name of the contact to update:  Meera\n"
     ]
    },
    {
     "name": "stdout",
     "output_type": "stream",
     "text": [
      "Leave blank to keep current value.\n"
     ]
    },
    {
     "name": "stdin",
     "output_type": "stream",
     "text": [
      "Name [Meera]:  Meena\n",
      "Phone [7654328974]:  \n",
      "Email [meera_123@gmail.com]:  meena_123@gmail.com\n",
      "Address [chennai]:  \n"
     ]
    },
    {
     "name": "stdout",
     "output_type": "stream",
     "text": [
      "✅ Contact updated successfully!\n",
      "\n",
      "=== Contact Management System ===\n",
      "1. Add Contact\n",
      "2. View Contacts\n",
      "3. Search Contact\n",
      "4. Update Contact\n",
      "5. Delete Contact\n",
      "6. Exit\n"
     ]
    },
    {
     "name": "stdin",
     "output_type": "stream",
     "text": [
      "Enter your choice:  2\n"
     ]
    },
    {
     "name": "stdout",
     "output_type": "stream",
     "text": [
      "\n",
      "--- Contact List ---\n",
      "1. Meena - 7654328974\n",
      "2. Madhu - 7896543234\n",
      "-------------------\n",
      "\n",
      "=== Contact Management System ===\n",
      "1. Add Contact\n",
      "2. View Contacts\n",
      "3. Search Contact\n",
      "4. Update Contact\n",
      "5. Delete Contact\n",
      "6. Exit\n"
     ]
    },
    {
     "name": "stdin",
     "output_type": "stream",
     "text": [
      "Enter your choice:  5\n",
      "Enter name of the contact to delete:  Madhu\n"
     ]
    },
    {
     "name": "stdout",
     "output_type": "stream",
     "text": [
      "🗑 Contact deleted successfully!\n",
      "\n",
      "=== Contact Management System ===\n",
      "1. Add Contact\n",
      "2. View Contacts\n",
      "3. Search Contact\n",
      "4. Update Contact\n",
      "5. Delete Contact\n",
      "6. Exit\n"
     ]
    },
    {
     "name": "stdin",
     "output_type": "stream",
     "text": [
      "Enter your choice:  2\n"
     ]
    },
    {
     "name": "stdout",
     "output_type": "stream",
     "text": [
      "\n",
      "--- Contact List ---\n",
      "1. Meena - 7654328974\n",
      "-------------------\n",
      "\n",
      "=== Contact Management System ===\n",
      "1. Add Contact\n",
      "2. View Contacts\n",
      "3. Search Contact\n",
      "4. Update Contact\n",
      "5. Delete Contact\n",
      "6. Exit\n"
     ]
    },
    {
     "name": "stdin",
     "output_type": "stream",
     "text": [
      "Enter your choice:  6\n"
     ]
    },
    {
     "name": "stdout",
     "output_type": "stream",
     "text": [
      "Goodbye!\n"
     ]
    }
   ],
   "source": [
    "contacts = []  \n",
    "\n",
    "def add_contact():\n",
    "    name = input(\"Enter name: \")\n",
    "    phone = input(\"Enter phone number: \")\n",
    "    email = input(\"Enter email: \")\n",
    "    address = input(\"Enter address: \")\n",
    "    contacts.append({\n",
    "        \"name\": name,\n",
    "        \"phone\": phone,\n",
    "        \"email\": email,\n",
    "        \"address\": address\n",
    "    })\n",
    "    print(\" Contact added successfully!\")\n",
    "\n",
    "def view_contacts():\n",
    "    if not contacts:\n",
    "        print(\"No contacts found.\")\n",
    "        return\n",
    "    print(\"\\n--- Contact List ---\")\n",
    "    for i, contact in enumerate(contacts, start=1):\n",
    "        print(f\"{i}. {contact['name']} - {contact['phone']}\")\n",
    "    print(\"-------------------\")\n",
    "\n",
    "def search_contact():\n",
    "    search_term = input(\"Enter name or phone number to search: \").lower()\n",
    "    found = False\n",
    "    for contact in contacts:\n",
    "        if (search_term in contact['name'].lower()) or (search_term in contact['phone']):\n",
    "            print(f\"\\nName: {contact['name']}\")\n",
    "            print(f\"Phone: {contact['phone']}\")\n",
    "            print(f\"Email: {contact['email']}\")\n",
    "            print(f\"Address: {contact['address']}\")\n",
    "            found = True\n",
    "    if not found:\n",
    "        print(\"No matching contact found.\")\n",
    "\n",
    "def update_contact():\n",
    "    search_term = input(\"Enter name of the contact to update: \").lower()\n",
    "    for contact in contacts:\n",
    "        if contact['name'].lower() == search_term:\n",
    "            print(\"Leave blank to keep current value.\")\n",
    "            contact['name'] = input(f\"Name [{contact['name']}]: \") or contact['name']\n",
    "            contact['phone'] = input(f\"Phone [{contact['phone']}]: \") or contact['phone']\n",
    "            contact['email'] = input(f\"Email [{contact['email']}]: \") or contact['email']\n",
    "            contact['address'] = input(f\"Address [{contact['address']}]: \") or contact['address']\n",
    "            print(\"✅ Contact updated successfully!\")\n",
    "            return\n",
    "    print(\"Contact not found.\")\n",
    "\n",
    "def delete_contact():\n",
    "    search_term = input(\"Enter name of the contact to delete: \").lower()\n",
    "    for contact in contacts:\n",
    "        if contact['name'].lower() == search_term:\n",
    "            contacts.remove(contact)\n",
    "            print(\"🗑 Contact deleted successfully!\")\n",
    "            return\n",
    "    print(\"Contact not found.\")\n",
    "\n",
    "def main():\n",
    "    while True:\n",
    "        print(\"\\n=== Contact Management System ===\")\n",
    "        print(\"1. Add Contact\")\n",
    "        print(\"2. View Contacts\")\n",
    "        print(\"3. Search Contact\")\n",
    "        print(\"4. Update Contact\")\n",
    "        print(\"5. Delete Contact\")\n",
    "        print(\"6. Exit\")\n",
    "        choice = input(\"Enter your choice: \")\n",
    "        \n",
    "        if choice == \"1\":\n",
    "            add_contact()\n",
    "        elif choice == \"2\":\n",
    "            view_contacts()\n",
    "        elif choice == \"3\":\n",
    "            search_contact()\n",
    "        elif choice == \"4\":\n",
    "            update_contact()\n",
    "        elif choice == \"5\":\n",
    "            delete_contact()\n",
    "        elif choice == \"6\":\n",
    "            print(\"Goodbye!\")\n",
    "            break\n",
    "        else:\n",
    "            print(\"Invalid choice, please try again.\")\n",
    "\n",
    "main()"
   ]
  },
  {
   "cell_type": "code",
   "execution_count": null,
   "id": "1f151aa9-11df-4fdc-ba0c-ea6ebcd56361",
   "metadata": {},
   "outputs": [],
   "source": []
  }
 ],
 "metadata": {
  "kernelspec": {
   "display_name": "Python 3 (ipykernel)",
   "language": "python",
   "name": "python3"
  },
  "language_info": {
   "codemirror_mode": {
    "name": "ipython",
    "version": 3
   },
   "file_extension": ".py",
   "mimetype": "text/x-python",
   "name": "python",
   "nbconvert_exporter": "python",
   "pygments_lexer": "ipython3",
   "version": "3.12.7"
  }
 },
 "nbformat": 4,
 "nbformat_minor": 5
}
